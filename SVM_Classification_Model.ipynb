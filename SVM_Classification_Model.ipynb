{
 "cells": [
  {
   "cell_type": "markdown",
   "id": "f94e7181",
   "metadata": {},
   "source": [
    "# SVM"
   ]
  },
  {
   "cell_type": "code",
   "execution_count": 1,
   "id": "bf15c756",
   "metadata": {},
   "outputs": [],
   "source": [
    "import pandas as pd\n",
    "from sklearn.model_selection import train_test_split\n",
    "from sklearn.svm import SVC\n",
    "from sklearn.metrics import classification_report\n",
    "from joblib import dump\n",
    "from joblib import load\n",
    "import pandas as pd\n",
    "import matplotlib.pyplot as plt\n",
    "from sklearn.datasets import make_classification\n",
    "from sklearn.metrics import confusion_matrix, ConfusionMatrixDisplay\n",
    "from joblib import load\n",
    "import pandas as pd"
   ]
  },
  {
   "cell_type": "markdown",
   "id": "52a7cc64",
   "metadata": {},
   "source": [
    "### Haralick"
   ]
  },
  {
   "cell_type": "code",
   "execution_count": 13,
   "id": "c7cfb0f3",
   "metadata": {},
   "outputs": [
    {
     "name": "stdout",
     "output_type": "stream",
     "text": [
      "Classification Report:\n",
      "              precision    recall  f1-score   support\n",
      "\n",
      " bad_quality       0.69      0.73      0.71       198\n",
      "good_quality       0.74      0.70      0.72       218\n",
      "\n",
      "    accuracy                           0.71       416\n",
      "   macro avg       0.71      0.71      0.71       416\n",
      "weighted avg       0.72      0.71      0.71       416\n",
      "\n",
      "Trained model saved as 'haralick_lemon_quality_svm_model.joblib'\n"
     ]
    }
   ],
   "source": [
    "# Load the dataset\n",
    "data = pd.read_csv('haralick_features.csv')\n",
    "\n",
    "# Assuming the last column contains the target labels\n",
    "X = data.iloc[:, :-1]  # Features\n",
    "y = data.iloc[:, -1]   # Target labels\n",
    "\n",
    "# Split the data into training and testing sets\n",
    "X_train, X_test, y_train, y_test = train_test_split(X, y, test_size=0.2, random_state=42)\n",
    "\n",
    "# Train the SVM model\n",
    "svm_model = SVC(kernel='linear', decision_function_shape='ovo')  # OvR strategy\n",
    "svm_model.fit(X_train, y_train)\n",
    "\n",
    "# Evaluate the model\n",
    "y_pred = svm_model.predict(X_test)\n",
    "print(\"Classification Report:\")\n",
    "print(classification_report(y_test, y_pred))\n",
    "\n",
    "# Save the trained model\n",
    "model_filename = 'haralick_lemon_quality_svm_model.joblib'\n",
    "dump(svm_model, model_filename)\n",
    "print(f\"Trained model saved as '{model_filename}'\")"
   ]
  },
  {
   "cell_type": "markdown",
   "id": "dc4fae1e",
   "metadata": {},
   "source": [
    "### CCM x Haralick"
   ]
  },
  {
   "cell_type": "code",
   "execution_count": 14,
   "id": "d80ab452",
   "metadata": {},
   "outputs": [
    {
     "name": "stdout",
     "output_type": "stream",
     "text": [
      "Classification Report:\n",
      "              precision    recall  f1-score   support\n",
      "\n",
      " bad_quality       0.78      0.84      0.81       198\n",
      "good_quality       0.84      0.78      0.81       218\n",
      "\n",
      "    accuracy                           0.81       416\n",
      "   macro avg       0.81      0.81      0.81       416\n",
      "weighted avg       0.81      0.81      0.81       416\n",
      "\n",
      "Trained model saved as 'lemon_quality_svm_model.joblib'\n"
     ]
    }
   ],
   "source": [
    "# Load the dataset\n",
    "data = pd.read_csv('ccm_x_haralick_features.csv')\n",
    "\n",
    "# Assuming the last column contains the target labels\n",
    "X = data.iloc[:, :-1]  # Features\n",
    "y = data.iloc[:, -1]   # Target labels\n",
    "\n",
    "# Split the data into training and testing sets\n",
    "X_train, X_test, y_train, y_test = train_test_split(X, y, test_size=0.2, random_state=42)\n",
    "\n",
    "# Train the SVM model\n",
    "svm_model = SVC(kernel='linear', decision_function_shape='ovo')  # OvR strategy\n",
    "svm_model.fit(X_train, y_train)\n",
    "\n",
    "# Evaluate the model\n",
    "y_pred = svm_model.predict(X_test)\n",
    "print(\"Classification Report:\")\n",
    "print(classification_report(y_test, y_pred))\n",
    "\n",
    "# Save the trained model\n",
    "model_filename = 'lemon_quality_svm_model.joblib'\n",
    "dump(svm_model, model_filename)\n",
    "print(f\"Trained model saved as '{model_filename}'\")"
   ]
  },
  {
   "cell_type": "markdown",
   "id": "3c1b2ba9",
   "metadata": {},
   "source": [
    "### CCM"
   ]
  },
  {
   "cell_type": "code",
   "execution_count": 15,
   "id": "f86c29d1",
   "metadata": {},
   "outputs": [
    {
     "name": "stdout",
     "output_type": "stream",
     "text": [
      "Classification Report:\n",
      "              precision    recall  f1-score   support\n",
      "\n",
      " bad_quality       0.76      0.80      0.78       198\n",
      "good_quality       0.81      0.77      0.79       218\n",
      "\n",
      "    accuracy                           0.79       416\n",
      "   macro avg       0.79      0.79      0.79       416\n",
      "weighted avg       0.79      0.79      0.79       416\n",
      "\n",
      "Trained model saved as 'ccm_lemon_quality_svm_model.joblib'\n"
     ]
    }
   ],
   "source": [
    "# Load the dataset\n",
    "data = pd.read_csv('ccm_features.csv')\n",
    "\n",
    "# Assuming the last column contains the target labels\n",
    "X = data.iloc[:, :-1]  # Features\n",
    "y = data.iloc[:, -1]   # Target labels\n",
    "\n",
    "# Split the data into training and testing sets\n",
    "X_train, X_test, y_train, y_test = train_test_split(X, y, test_size=0.2, random_state=42)\n",
    "\n",
    "# Train the SVM model\n",
    "svm_model = SVC(kernel='linear', decision_function_shape='ovo')  # OvR strategy\n",
    "svm_model.fit(X_train, y_train)\n",
    "\n",
    "# Evaluate the model\n",
    "y_pred = svm_model.predict(X_test)\n",
    "print(\"Classification Report:\")\n",
    "print(classification_report(y_test, y_pred))\n",
    "\n",
    "# Save the trained model\n",
    "model_filename = 'ccm_lemon_quality_svm_model.joblib'\n",
    "dump(svm_model, model_filename)\n",
    "print(f\"Trained model saved as '{model_filename}'\")"
   ]
  },
  {
   "cell_type": "code",
   "execution_count": null,
   "id": "7f7f4bda",
   "metadata": {},
   "outputs": [],
   "source": []
  }
 ],
 "metadata": {
  "kernelspec": {
   "display_name": "Python 3 (ipykernel)",
   "language": "python",
   "name": "python3"
  },
  "language_info": {
   "codemirror_mode": {
    "name": "ipython",
    "version": 3
   },
   "file_extension": ".py",
   "mimetype": "text/x-python",
   "name": "python",
   "nbconvert_exporter": "python",
   "pygments_lexer": "ipython3",
   "version": "3.11.7"
  }
 },
 "nbformat": 4,
 "nbformat_minor": 5
}
